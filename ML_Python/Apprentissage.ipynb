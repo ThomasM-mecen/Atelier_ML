{
 "cells": [
  {
   "cell_type": "markdown",
   "metadata": {},
   "source": [
    "# Comment fonctionne basiquement un apprentissage (Machine learning)"
   ]
  },
  {
   "cell_type": "markdown",
   "metadata": {},
   "source": [
    "Gestion des données et représentation"
   ]
  },
  {
   "cell_type": "code",
   "execution_count": null,
   "metadata": {},
   "outputs": [],
   "source": [
    "import numpy as np\n",
    "import matplotlib.pyplot as plt"
   ]
  },
  {
   "cell_type": "markdown",
   "metadata": {},
   "source": [
    "Optimisation via scipy"
   ]
  },
  {
   "cell_type": "code",
   "execution_count": null,
   "metadata": {},
   "outputs": [],
   "source": [
    "from scipy.optimize import minimize"
   ]
  },
  {
   "cell_type": "code",
   "execution_count": null,
   "metadata": {},
   "outputs": [],
   "source": [
    "# Gestion de la taille des figures\n",
    "plt.rcParams[\"figure.figsize\"] = (14, 10)"
   ]
  },
  {
   "cell_type": "markdown",
   "metadata": {},
   "source": [
    "## Génération de l'échantillon"
   ]
  },
  {
   "cell_type": "code",
   "execution_count": null,
   "metadata": {},
   "outputs": [],
   "source": [
    "a, b = -1, 1"
   ]
  },
  {
   "cell_type": "code",
   "execution_count": null,
   "metadata": {},
   "outputs": [],
   "source": [
    "def cible(x):\n",
    "    return np.exp(-20 * x ** 2)"
   ]
  },
  {
   "cell_type": "code",
   "execution_count": null,
   "metadata": {
    "scrolled": true
   },
   "outputs": [],
   "source": [
    "xs = np.linspace(a, b, 200) # 200 points entre - 1 et 1\n",
    "ys = cible(xs) # Output\n",
    "print(xs)"
   ]
  },
  {
   "cell_type": "code",
   "execution_count": null,
   "metadata": {},
   "outputs": [],
   "source": [
    "plt.plot(xs, ys)"
   ]
  },
  {
   "cell_type": "code",
   "execution_count": null,
   "metadata": {},
   "outputs": [],
   "source": [
    "nb_points = 20\n",
    "points = np.random.uniform(a, b, size=(nb_points))"
   ]
  },
  {
   "cell_type": "code",
   "execution_count": null,
   "metadata": {},
   "outputs": [],
   "source": [
    "print(points)"
   ]
  },
  {
   "cell_type": "code",
   "execution_count": null,
   "metadata": {},
   "outputs": [],
   "source": [
    "valeurs = cible(points) # Output de ces 20 points"
   ]
  },
  {
   "cell_type": "code",
   "execution_count": null,
   "metadata": {},
   "outputs": [],
   "source": [
    "plt.plot(xs, ys, color=\"blue\", label=\"cible\")\n",
    "plt.scatter(points, valeurs, color=\"red\", label=\"echantillon\")\n",
    "plt.legend()"
   ]
  },
  {
   "cell_type": "markdown",
   "metadata": {},
   "source": [
    "On a notre fonction cible en bleu (l'objectif est d'apprendre cette fonction), et pour cela on a nos données d'entraînement en rouge."
   ]
  },
  {
   "cell_type": "markdown",
   "metadata": {},
   "source": [
    "## Apprentissage"
   ]
  },
  {
   "cell_type": "markdown",
   "metadata": {},
   "source": [
    "On peut apprendre la fonction cible en faisant une interpolation polynomiale de Lagrange.\n",
    "\n",
    "Basiquement, on note l'interpolation polynomiale de Lagrange pour un point $i$ de la façon suivante : \n",
    "\n",
    "\n",
    "$$ P(x_i) = a_nx^n + a_{n-1}x^{n-1} + ... + a_2x^2 + a_1x^1 + a_0 $$\n",
    "\n",
    "Soit $y_i$ la valeur de l'output, il faut donc que $P(x_i) = y_i$.\n",
    "\n",
    "Il faut donc déterminer les coefficients $a_n, ... , a_0$ de telle façon à minimiser l'erreur de prédiction. On cherche alors : \n",
    "\n",
    "$$ Min(\\sum^{n}_{i = 0} (P(x_i) - y_i)^2)$$ "
   ]
  },
  {
   "cell_type": "code",
   "execution_count": null,
   "metadata": {},
   "outputs": [],
   "source": [
    "def erreur(coefficients):\n",
    "    return sum(\n",
    "        (\n",
    "            sum( \n",
    "                coefficient * point ** k \n",
    "                for k, coefficient in enumerate(coefficients)\n",
    "            ) \n",
    "            - valeur\n",
    "        ) ** 2 \n",
    "        for point, valeur in zip(points, valeurs)\n",
    "    )"
   ]
  },
  {
   "cell_type": "code",
   "execution_count": null,
   "metadata": {},
   "outputs": [],
   "source": [
    "degres = 5\n",
    "resultat = minimize(erreur, np.zeros(shape=(degres + 1)))"
   ]
  },
  {
   "cell_type": "code",
   "execution_count": null,
   "metadata": {},
   "outputs": [],
   "source": [
    "print(resultat)"
   ]
  },
  {
   "cell_type": "code",
   "execution_count": null,
   "metadata": {},
   "outputs": [],
   "source": [
    "coefficients_finaux = resultat.x\n",
    "print(coefficients_finaux)"
   ]
  },
  {
   "cell_type": "code",
   "execution_count": null,
   "metadata": {},
   "outputs": [],
   "source": [
    "def evaluation_polynomial(x, coefficients):\n",
    "    return sum(\n",
    "        coefficient * x ** k \n",
    "        for k, coefficient in enumerate(coefficients)\n",
    "    )"
   ]
  },
  {
   "cell_type": "code",
   "execution_count": null,
   "metadata": {},
   "outputs": [],
   "source": [
    "plt.plot(xs, ys, color=\"blue\", label=\"cible\")\n",
    "plt.scatter(points, valeurs, color=\"red\", label=\"echantillon\")\n",
    "plt.plot(\n",
    "    xs, \n",
    "    evaluation_polynomial(xs, coefficients_finaux), \n",
    "    color=\"green\", \n",
    "    label=f\"apprise avec d={degres}\"\n",
    ")\n",
    "plt.legend()"
   ]
  },
  {
   "cell_type": "code",
   "execution_count": null,
   "metadata": {},
   "outputs": [],
   "source": [
    "erreur(coefficients_finaux)"
   ]
  },
  {
   "cell_type": "markdown",
   "metadata": {},
   "source": [
    "## Reformatage du code"
   ]
  },
  {
   "cell_type": "code",
   "execution_count": null,
   "metadata": {},
   "outputs": [],
   "source": [
    "def apprentissage(degres):\n",
    "    resultat = minimize(erreur, np.zeros(shape=(degres + 1)))\n",
    "    def evaluation(x):\n",
    "        return sum(\n",
    "            coefficient * x ** k \n",
    "        for k, coefficient in enumerate(resultat.x)\n",
    "    )\n",
    "    return evaluation"
   ]
  },
  {
   "cell_type": "code",
   "execution_count": null,
   "metadata": {
    "scrolled": false
   },
   "outputs": [],
   "source": [
    "plt.plot(xs, ys, color=\"blue\", label=\"cible\")\n",
    "plt.scatter(points, valeurs, color=\"red\", label=\"echantillon\")\n",
    "for degres in (5, 8, 11):\n",
    "    evaluation = apprentissage(degres)\n",
    "    plt.plot(\n",
    "        xs, \n",
    "        evaluation(xs), \n",
    "        label=f\"apprise avec d={degres}\"\n",
    ")\n",
    "plt.legend()\n",
    "ax = plt.gca()\n",
    "ax.set_ylim([-0.2, 1.2])"
   ]
  },
  {
   "cell_type": "code",
   "execution_count": null,
   "metadata": {
    "scrolled": false
   },
   "outputs": [],
   "source": [
    "fig, axs = plt.subplots(ncols=2, nrows=3)\n",
    "xs = np.linspace(a, b, 200)\n",
    "ys = cible(xs)\n",
    "for degres, ax in zip((5, 7, 9, 11, 20, 30), axs.flatten()):\n",
    "    ax.plot(xs, ys, color=\"blue\", label=\"cible\")\n",
    "    ax.scatter(points, valeurs, color=\"red\", label=\"echantillon\")  \n",
    "    evaluation = apprentissage(degres)\n",
    "    ax.plot(\n",
    "        xs, \n",
    "        evaluation(xs), \n",
    "        label=f\"apprise\",\n",
    "        color=\"green\",\n",
    ")\n",
    "    ax.set_ylim(-0.1, 1.1)\n",
    "    ax.set_title(f\"degres={degres}\")\n",
    "    ax.legend()"
   ]
  },
  {
   "cell_type": "markdown",
   "metadata": {},
   "source": [
    "### On peut refaire cet apprentissage en séparant l'échantillon en deux parties (train et test)"
   ]
  },
  {
   "cell_type": "code",
   "execution_count": null,
   "metadata": {},
   "outputs": [],
   "source": [
    "a, b = -1, 1\n",
    "def cible(x):\n",
    "    return np.exp(-20 * x ** 2)"
   ]
  },
  {
   "cell_type": "code",
   "execution_count": null,
   "metadata": {},
   "outputs": [],
   "source": [
    "points_apprentissage = np.random.uniform(a, b, size=(20))\n",
    "points_test = np.random.uniform(a, b, size=(10))"
   ]
  },
  {
   "cell_type": "code",
   "execution_count": null,
   "metadata": {},
   "outputs": [],
   "source": [
    "valeurs_apprentissage = cible(points_apprentissage)\n",
    "valeurs_test = cible(points_test)"
   ]
  },
  {
   "cell_type": "code",
   "execution_count": null,
   "metadata": {},
   "outputs": [],
   "source": [
    "def erreur_apprentissage(coefficients):\n",
    "    return sum(\n",
    "        (\n",
    "            sum( \n",
    "                coefficient * point ** k\n",
    "                for k, coefficient in enumerate(coefficients)\n",
    "            )\n",
    "            - valeur\n",
    "        ) ** 2 \n",
    "        for point, valeur in zip(points_apprentissage, valeurs_apprentissage)\n",
    "    )"
   ]
  },
  {
   "cell_type": "code",
   "execution_count": null,
   "metadata": {},
   "outputs": [],
   "source": [
    "def erreur_test(coefficients):\n",
    "    return sum(\n",
    "        (\n",
    "            sum( \n",
    "                coefficient * point ** k\n",
    "                for k, coefficient in enumerate(coefficients)\n",
    "            )\n",
    "            - valeur\n",
    "        ) ** 2 \n",
    "        for point, valeur in zip(points_test, valeurs_test)\n",
    "    )"
   ]
  },
  {
   "cell_type": "code",
   "execution_count": null,
   "metadata": {},
   "outputs": [],
   "source": [
    "def apprentissage(degres):\n",
    "    resultat = minimize(fun=erreur_apprentissage, x0=np.zeros(shape=(degres + 1)))\n",
    "    return resultat.x"
   ]
  },
  {
   "cell_type": "code",
   "execution_count": null,
   "metadata": {},
   "outputs": [],
   "source": [
    "erreurs_apprentissage = list()\n",
    "erreurs_test = list()\n",
    "for degres in range(1, 21):\n",
    "    coefficients_optimaux = apprentissage(degres)\n",
    "    erreurs_apprentissage.append(erreur_apprentissage(coefficients_optimaux))\n",
    "    erreurs_test.append(erreur_test(coefficients_optimaux))"
   ]
  },
  {
   "cell_type": "code",
   "execution_count": null,
   "metadata": {},
   "outputs": [],
   "source": [
    "plt.semilogy(erreurs_apprentissage, label=\"erreurs sur la partie apprise\")\n",
    "plt.semilogy(erreurs_test, label=\"erreurs sur la partie test\")\n",
    "plt.legend()"
   ]
  },
  {
   "cell_type": "code",
   "execution_count": null,
   "metadata": {},
   "outputs": [],
   "source": [
    "class Echantillon:\n",
    "    def __init__(\n",
    "        self, \n",
    "        cible, \n",
    "        nb_apprentissage, \n",
    "        nb_validation,\n",
    "        a,\n",
    "        b,\n",
    "    ):\n",
    "        self.nb_validation = nb_validation\n",
    "        self.nb_apprentissage = nb_apprentissage\n",
    "        self.xs = np.linspace(a, b, 200)\n",
    "        self.cible = cible\n",
    "        self.points_app = np.random.uniform(a, b, size=(self.nb_apprentissage))\n",
    "        self.points_val = np.random.uniform(a, b, size=(self.nb_validation))\n",
    "        self.valeurs_app = self.cible(self.points_app)\n",
    "        self.valeurs_val = self.cible(self.points_val)\n",
    "        \n",
    "    def erreur_app(self, polynome):\n",
    "        return sum(\n",
    "            (polynome(point) - valeur) ** 2\n",
    "            for point, valeur in zip(self.points_app, self.valeurs_app)\n",
    "        )\n",
    "            \n",
    "    def erreur_val(self, polynome):\n",
    "        return sum(\n",
    "            (polynome(point) - valeur) ** 2 \n",
    "            for point, valeur in zip(self.points_val, self.valeurs_val)\n",
    "        ) / self.nb_validation\n",
    "    \n",
    "    def affichage(self, ax):\n",
    "        ax.plot(xs, self.cible(xs), label=\"cible\")\n",
    "        ax.scatter(self.points_app, self.valeurs_app, label=\"echantillon_apprentissage\")\n",
    "        ax.scatter(self.points_val, self.valeurs_val, label=\"echantillon_validation\") "
   ]
  },
  {
   "cell_type": "code",
   "execution_count": null,
   "metadata": {},
   "outputs": [],
   "source": [
    "class Modele:\n",
    "    def __init__(self, degres, echantillon):\n",
    "        self.degres = degres\n",
    "        self.echantillon = echantillon\n",
    "        \n",
    "    def apprentissage(self):\n",
    "        def evaluation(coefficients):\n",
    "            return self.echantillon.erreur_app(\n",
    "                lambda x: sum(coefficient * x ** k for k, coefficient in enumerate(coefficients))\n",
    "            )\n",
    "        resultat = minimize(\n",
    "            fun=evaluation,\n",
    "            x0=np.zeros(shape=(self.degres))\n",
    "        )\n",
    "        self.coefficients_optimaux = resultat.x\n",
    "        \n",
    "    def affichage(self, ax):\n",
    "        self.valeurs = sum(\n",
    "            coefficient_optimal * self.echantillon.xs ** k\n",
    "            for k, coefficient_optimal in enumerate(self.coefficients_optimaux)\n",
    "        )\n",
    "        ax.plot(\n",
    "            self.echantillon.xs, \n",
    "            self.valeurs, \n",
    "            label=f\"appris d={self.degres}\"\n",
    "        )\n",
    "        \n",
    "    def affichage_erreur_val(self):\n",
    "        erreur = self.echantillon.erreur_val(\n",
    "            lambda x: sum(coefficient * x ** k for k, coefficient in enumerate(self.coefficients_optimaux))\n",
    "        ) \n",
    "        return print(f\"Erreur en test avec d = {self.degres} : {erreur}\")\n",
    "        "
   ]
  },
  {
   "cell_type": "code",
   "execution_count": null,
   "metadata": {},
   "outputs": [],
   "source": [
    "ech = Echantillon(\n",
    "    cible=lambda x: np.exp(- 20 * x ** 2),\n",
    "    a=-1,\n",
    "    b=1,\n",
    "    nb_apprentissage=50,\n",
    "    nb_validation=30,\n",
    ")\n",
    "fig, ax = plt.subplots()\n",
    "ax.set_ylim(-0.1, 1.1)\n",
    "ech.affichage(ax)\n",
    "m5 = Modele(degres=5, echantillon=ech)\n",
    "m5.apprentissage()\n",
    "m5.affichage(ax)\n",
    "m5.affichage_erreur_val()\n",
    "m9 = Modele(degres=9, echantillon=ech)\n",
    "m9.apprentissage()\n",
    "m9.affichage(ax)\n",
    "m9.affichage_erreur_val()\n",
    "m11 = Modele(degres=11, echantillon=ech)\n",
    "m11.apprentissage()\n",
    "m11.affichage(ax)\n",
    "m11.affichage_erreur_val()\n",
    "m50 = Modele(degres=50, echantillon=ech)\n",
    "m50.apprentissage()\n",
    "m50.affichage(ax)\n",
    "m50.affichage_erreur_val()\n",
    "ax.legend()"
   ]
  },
  {
   "cell_type": "code",
   "execution_count": null,
   "metadata": {},
   "outputs": [],
   "source": []
  }
 ],
 "metadata": {
  "kernelspec": {
   "display_name": "Python 3",
   "language": "python",
   "name": "python3"
  },
  "language_info": {
   "codemirror_mode": {
    "name": "ipython",
    "version": 3
   },
   "file_extension": ".py",
   "mimetype": "text/x-python",
   "name": "python",
   "nbconvert_exporter": "python",
   "pygments_lexer": "ipython3",
   "version": "3.6.9"
  }
 },
 "nbformat": 4,
 "nbformat_minor": 2
}
